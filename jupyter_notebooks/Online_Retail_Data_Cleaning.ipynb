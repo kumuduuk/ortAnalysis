{
 "cells": [
  {
   "cell_type": "markdown",
   "id": "4ec9bcf1",
   "metadata": {},
   "source": [
    "# 🛍 Online Retail Dataset — Data Cleaning & Preprocessing\n",
    "This notebook covers:\n",
    "- Data loading & inspection\n",
    "- Data cleaning\n",
    "- Handling missing values & duplicates\n",
    "- Data type optimization\n",
    "- Common issues & solutions\n",
    "- Final clean dataset ready for analysis"
   ]
  },
  {
   "cell_type": "code",
   "execution_count": 1,
   "id": "6099b4b3",
   "metadata": {},
   "outputs": [],
   "source": [
    "# 🧾 1. Import Required Libraries\n",
    "import pandas as pd\n",
    "import numpy as np\n",
    "import matplotlib.pyplot as plt\n",
    "import seaborn as sns\n",
    "\n",
    "# Optional display settings\n",
    "pd.set_option('display.max_columns', None)\n",
    "pd.set_option('display.width', 200)"
   ]
  },
  {
   "cell_type": "code",
   "execution_count": 2,
   "id": "170cb121",
   "metadata": {},
   "outputs": [
    {
     "name": "stdout",
     "output_type": "stream",
     "text": [
      "Shape of dataset: (541909, 8)\n"
     ]
    },
    {
     "data": {
      "text/html": [
       "<div>\n",
       "<style scoped>\n",
       "    .dataframe tbody tr th:only-of-type {\n",
       "        vertical-align: middle;\n",
       "    }\n",
       "\n",
       "    .dataframe tbody tr th {\n",
       "        vertical-align: top;\n",
       "    }\n",
       "\n",
       "    .dataframe thead th {\n",
       "        text-align: right;\n",
       "    }\n",
       "</style>\n",
       "<table border=\"1\" class=\"dataframe\">\n",
       "  <thead>\n",
       "    <tr style=\"text-align: right;\">\n",
       "      <th></th>\n",
       "      <th>InvoiceNo</th>\n",
       "      <th>StockCode</th>\n",
       "      <th>Description</th>\n",
       "      <th>Quantity</th>\n",
       "      <th>InvoiceDate</th>\n",
       "      <th>UnitPrice</th>\n",
       "      <th>CustomerID</th>\n",
       "      <th>Country</th>\n",
       "    </tr>\n",
       "  </thead>\n",
       "  <tbody>\n",
       "    <tr>\n",
       "      <th>0</th>\n",
       "      <td>536365</td>\n",
       "      <td>85123A</td>\n",
       "      <td>WHITE HANGING HEART T-LIGHT HOLDER</td>\n",
       "      <td>6</td>\n",
       "      <td>2010-12-01 08:26:00</td>\n",
       "      <td>2.55</td>\n",
       "      <td>17850</td>\n",
       "      <td>United Kingdom</td>\n",
       "    </tr>\n",
       "    <tr>\n",
       "      <th>1</th>\n",
       "      <td>536365</td>\n",
       "      <td>71053</td>\n",
       "      <td>WHITE METAL LANTERN</td>\n",
       "      <td>6</td>\n",
       "      <td>2010-12-01 08:26:00</td>\n",
       "      <td>3.39</td>\n",
       "      <td>17850</td>\n",
       "      <td>United Kingdom</td>\n",
       "    </tr>\n",
       "    <tr>\n",
       "      <th>2</th>\n",
       "      <td>536365</td>\n",
       "      <td>84406B</td>\n",
       "      <td>CREAM CUPID HEARTS COAT HANGER</td>\n",
       "      <td>8</td>\n",
       "      <td>2010-12-01 08:26:00</td>\n",
       "      <td>2.75</td>\n",
       "      <td>17850</td>\n",
       "      <td>United Kingdom</td>\n",
       "    </tr>\n",
       "    <tr>\n",
       "      <th>3</th>\n",
       "      <td>536365</td>\n",
       "      <td>84029G</td>\n",
       "      <td>KNITTED UNION FLAG HOT WATER BOTTLE</td>\n",
       "      <td>6</td>\n",
       "      <td>2010-12-01 08:26:00</td>\n",
       "      <td>3.39</td>\n",
       "      <td>17850</td>\n",
       "      <td>United Kingdom</td>\n",
       "    </tr>\n",
       "    <tr>\n",
       "      <th>4</th>\n",
       "      <td>536365</td>\n",
       "      <td>84029E</td>\n",
       "      <td>RED WOOLLY HOTTIE WHITE HEART.</td>\n",
       "      <td>6</td>\n",
       "      <td>2010-12-01 08:26:00</td>\n",
       "      <td>3.39</td>\n",
       "      <td>17850</td>\n",
       "      <td>United Kingdom</td>\n",
       "    </tr>\n",
       "  </tbody>\n",
       "</table>\n",
       "</div>"
      ],
      "text/plain": [
       "  InvoiceNo StockCode                          Description  Quantity          InvoiceDate  UnitPrice  CustomerID         Country\n",
       "0    536365    85123A   WHITE HANGING HEART T-LIGHT HOLDER         6  2010-12-01 08:26:00       2.55       17850  United Kingdom\n",
       "1    536365     71053                  WHITE METAL LANTERN         6  2010-12-01 08:26:00       3.39       17850  United Kingdom\n",
       "2    536365    84406B       CREAM CUPID HEARTS COAT HANGER         8  2010-12-01 08:26:00       2.75       17850  United Kingdom\n",
       "3    536365    84029G  KNITTED UNION FLAG HOT WATER BOTTLE         6  2010-12-01 08:26:00       3.39       17850  United Kingdom\n",
       "4    536365    84029E       RED WOOLLY HOTTIE WHITE HEART.         6  2010-12-01 08:26:00       3.39       17850  United Kingdom"
      ]
     },
     "execution_count": 2,
     "metadata": {},
     "output_type": "execute_result"
    }
   ],
   "source": [
    "# 📥 2. Load the Dataset\n",
    "df = pd.read_csv(\"Online_Retail.csv\")\n",
    "\n",
    "# Check basic shape and structure\n",
    "print(f\"Shape of dataset: {df.shape}\")\n",
    "df.head()"
   ]
  },
  {
   "cell_type": "code",
   "execution_count": 3,
   "id": "0a420757",
   "metadata": {},
   "outputs": [
    {
     "name": "stdout",
     "output_type": "stream",
     "text": [
      "<class 'pandas.core.frame.DataFrame'>\n",
      "RangeIndex: 541909 entries, 0 to 541908\n",
      "Data columns (total 8 columns):\n",
      " #   Column       Non-Null Count   Dtype  \n",
      "---  ------       --------------   -----  \n",
      " 0   InvoiceNo    541909 non-null  object \n",
      " 1   StockCode    541909 non-null  object \n",
      " 2   Description  540455 non-null  object \n",
      " 3   Quantity     541909 non-null  int64  \n",
      " 4   InvoiceDate  541909 non-null  object \n",
      " 5   UnitPrice    541909 non-null  float64\n",
      " 6   CustomerID   541909 non-null  int64  \n",
      " 7   Country      541909 non-null  object \n",
      "dtypes: float64(1), int64(2), object(5)\n",
      "memory usage: 33.1+ MB\n",
      "None\n",
      "       InvoiceNo StockCode                         Description       Quantity          InvoiceDate      UnitPrice     CustomerID         Country\n",
      "count     541909    541909                              540455  541909.000000               541909  541909.000000  541909.000000          541909\n",
      "unique     25900      4070                                4223            NaN                23260            NaN            NaN              38\n",
      "top       573585    85123A  WHITE HANGING HEART T-LIGHT HOLDER            NaN  2011-10-31 14:41:00            NaN            NaN  United Kingdom\n",
      "freq        1114      2313                                2369            NaN                 1114            NaN            NaN          495478\n",
      "mean         NaN       NaN                                 NaN       9.552250                  NaN       4.611114   15287.518434             NaN\n",
      "std          NaN       NaN                                 NaN     218.081158                  NaN      96.759853    1484.746041             NaN\n",
      "min          NaN       NaN                                 NaN  -80995.000000                  NaN  -11062.060000   12346.000000             NaN\n",
      "25%          NaN       NaN                                 NaN       1.000000                  NaN       1.250000   14367.000000             NaN\n",
      "50%          NaN       NaN                                 NaN       3.000000                  NaN       2.080000   15287.000000             NaN\n",
      "75%          NaN       NaN                                 NaN      10.000000                  NaN       4.130000   16255.000000             NaN\n",
      "max          NaN       NaN                                 NaN   80995.000000                  NaN   38970.000000   18287.000000             NaN\n",
      "InvoiceNo         0\n",
      "StockCode         0\n",
      "Description    1454\n",
      "Quantity          0\n",
      "InvoiceDate       0\n",
      "UnitPrice         0\n",
      "CustomerID        0\n",
      "Country           0\n",
      "dtype: int64\n"
     ]
    }
   ],
   "source": [
    "# 🔍 3. Initial Exploration\n",
    "print(df.info())\n",
    "print(df.describe(include='all'))\n",
    "print(df.isnull().sum())"
   ]
  },
  {
   "cell_type": "code",
   "execution_count": 4,
   "id": "b1022d16",
   "metadata": {},
   "outputs": [
    {
     "name": "stdout",
     "output_type": "stream",
     "text": [
      "Shape after removing duplicates: (536641, 8)\n"
     ]
    }
   ],
   "source": [
    "# 🧹 4.1 Remove Duplicates\n",
    "df.drop_duplicates(inplace=True)\n",
    "df.reset_index(drop=True, inplace=True)  # keep index clean\n",
    "print(f\"Shape after removing duplicates: {df.shape}\")"
   ]
  },
  {
   "cell_type": "markdown",
   "id": "ce5f0c96",
   "metadata": {},
   "source": [
    "✅ **Challenge faced:** Initially, I didn’t realize dropping duplicates makes the index non-linear. This can cause confusion during joins/merges, so `reset_index(drop=True)` is a best practice."
   ]
  },
  {
   "cell_type": "code",
   "execution_count": 5,
   "id": "d57d8a2c",
   "metadata": {},
   "outputs": [
    {
     "name": "stdout",
     "output_type": "stream",
     "text": [
      "InvoiceNo      0\n",
      "StockCode      0\n",
      "Description    0\n",
      "Quantity       0\n",
      "InvoiceDate    0\n",
      "UnitPrice      0\n",
      "CustomerID     0\n",
      "Country        0\n",
      "dtype: int64\n"
     ]
    }
   ],
   "source": [
    "# 🧹 4.2 Handle Missing Values\n",
    "df['Description'] = df['Description'].fillna('No Description')\n",
    "df['CustomerID'] = df['CustomerID'].fillna(-1)\n",
    "print(df.isnull().sum())"
   ]
  },
  {
   "cell_type": "code",
   "execution_count": 6,
   "id": "4db1f440",
   "metadata": {},
   "outputs": [
    {
     "name": "stdout",
     "output_type": "stream",
     "text": [
      "Shape of credit transactions: (9251, 8)\n"
     ]
    },
    {
     "data": {
      "text/html": [
       "<div>\n",
       "<style scoped>\n",
       "    .dataframe tbody tr th:only-of-type {\n",
       "        vertical-align: middle;\n",
       "    }\n",
       "\n",
       "    .dataframe tbody tr th {\n",
       "        vertical-align: top;\n",
       "    }\n",
       "\n",
       "    .dataframe thead th {\n",
       "        text-align: right;\n",
       "    }\n",
       "</style>\n",
       "<table border=\"1\" class=\"dataframe\">\n",
       "  <thead>\n",
       "    <tr style=\"text-align: right;\">\n",
       "      <th></th>\n",
       "      <th>InvoiceNo</th>\n",
       "      <th>StockCode</th>\n",
       "      <th>Description</th>\n",
       "      <th>Quantity</th>\n",
       "      <th>InvoiceDate</th>\n",
       "      <th>UnitPrice</th>\n",
       "      <th>CustomerID</th>\n",
       "      <th>Country</th>\n",
       "    </tr>\n",
       "  </thead>\n",
       "  <tbody>\n",
       "    <tr>\n",
       "      <th>141</th>\n",
       "      <td>C536379</td>\n",
       "      <td>D</td>\n",
       "      <td>Discount</td>\n",
       "      <td>-1</td>\n",
       "      <td>2010-12-01 09:41:00</td>\n",
       "      <td>27.50</td>\n",
       "      <td>14527</td>\n",
       "      <td>United Kingdom</td>\n",
       "    </tr>\n",
       "    <tr>\n",
       "      <th>154</th>\n",
       "      <td>C536383</td>\n",
       "      <td>35004C</td>\n",
       "      <td>SET OF 3 COLOURED  FLYING DUCKS</td>\n",
       "      <td>-1</td>\n",
       "      <td>2010-12-01 09:49:00</td>\n",
       "      <td>4.65</td>\n",
       "      <td>15311</td>\n",
       "      <td>United Kingdom</td>\n",
       "    </tr>\n",
       "    <tr>\n",
       "      <th>235</th>\n",
       "      <td>C536391</td>\n",
       "      <td>22556</td>\n",
       "      <td>PLASTERS IN TIN CIRCUS PARADE</td>\n",
       "      <td>-12</td>\n",
       "      <td>2010-12-01 10:24:00</td>\n",
       "      <td>1.65</td>\n",
       "      <td>17548</td>\n",
       "      <td>United Kingdom</td>\n",
       "    </tr>\n",
       "    <tr>\n",
       "      <th>236</th>\n",
       "      <td>C536391</td>\n",
       "      <td>21984</td>\n",
       "      <td>PACK OF 12 PINK PAISLEY TISSUES</td>\n",
       "      <td>-24</td>\n",
       "      <td>2010-12-01 10:24:00</td>\n",
       "      <td>0.29</td>\n",
       "      <td>17548</td>\n",
       "      <td>United Kingdom</td>\n",
       "    </tr>\n",
       "    <tr>\n",
       "      <th>237</th>\n",
       "      <td>C536391</td>\n",
       "      <td>21983</td>\n",
       "      <td>PACK OF 12 BLUE PAISLEY TISSUES</td>\n",
       "      <td>-24</td>\n",
       "      <td>2010-12-01 10:24:00</td>\n",
       "      <td>0.29</td>\n",
       "      <td>17548</td>\n",
       "      <td>United Kingdom</td>\n",
       "    </tr>\n",
       "  </tbody>\n",
       "</table>\n",
       "</div>"
      ],
      "text/plain": [
       "    InvoiceNo StockCode                       Description  Quantity          InvoiceDate  UnitPrice  CustomerID         Country\n",
       "141   C536379         D                          Discount        -1  2010-12-01 09:41:00      27.50       14527  United Kingdom\n",
       "154   C536383    35004C   SET OF 3 COLOURED  FLYING DUCKS        -1  2010-12-01 09:49:00       4.65       15311  United Kingdom\n",
       "235   C536391     22556    PLASTERS IN TIN CIRCUS PARADE        -12  2010-12-01 10:24:00       1.65       17548  United Kingdom\n",
       "236   C536391     21984  PACK OF 12 PINK PAISLEY TISSUES        -24  2010-12-01 10:24:00       0.29       17548  United Kingdom\n",
       "237   C536391     21983  PACK OF 12 BLUE PAISLEY TISSUES        -24  2010-12-01 10:24:00       0.29       17548  United Kingdom"
      ]
     },
     "execution_count": 6,
     "metadata": {},
     "output_type": "execute_result"
    }
   ],
   "source": [
    "# 🧹 4.3 Handle Credit Transactions\n",
    "credit_transactions = df[df['InvoiceNo'].str.startswith('C', na=False)]\n",
    "print(f\"Shape of credit transactions: {credit_transactions.shape}\")\n",
    "credit_transactions.head()"
   ]
  },
  {
   "cell_type": "code",
   "execution_count": 7,
   "id": "66c12480",
   "metadata": {},
   "outputs": [],
   "source": [
    "# 🧠 5. Data Type Optimization\n",
    "df['InvoiceNo'] = df['InvoiceNo'].astype('category')\n",
    "df['StockCode'] = df['StockCode'].astype('category')\n",
    "df['Description'] = df['Description'].astype('category')\n",
    "df['Quantity'] = df['Quantity'].astype('int32')\n",
    "df['InvoiceDate'] = pd.to_datetime(df['InvoiceDate'])\n",
    "df['UnitPrice'] = df['UnitPrice'].astype('float32')\n",
    "df['CustomerID'] = df['CustomerID'].astype('category')\n",
    "df['Country'] = df['Country'].astype('category')"
   ]
  },
  {
   "cell_type": "code",
   "execution_count": 8,
   "id": "754069bc",
   "metadata": {},
   "outputs": [
    {
     "data": {
      "text/plain": [
       "CustomerID\n",
       "12346       0\n",
       "12347    2458\n",
       "12348    2341\n",
       "12349     631\n",
       "12350     197\n",
       "Name: Quantity, dtype: int32"
      ]
     },
     "execution_count": 8,
     "metadata": {},
     "output_type": "execute_result"
    }
   ],
   "source": [
    "# 🧭 6. Common Issue — groupby with Categorical CustomerID\n",
    "# ❌ This can cause errors when CustomerID is 'category'\n",
    "# df.groupby('CustomerID')['Quantity'].sum()\n",
    "\n",
    "# ✅ Workaround\n",
    "df['CustomerID'] = df['CustomerID'].astype(str)\n",
    "customer_sales = df.groupby('CustomerID')['Quantity'].sum()\n",
    "customer_sales.head()"
   ]
  },
  {
   "cell_type": "markdown",
   "id": "b237b85b",
   "metadata": {},
   "source": [
    "✅ **Challenge faced:** Grouping on categorical `CustomerID` caused an error, so I converted it to string before applying `groupby`."
   ]
  },
  {
   "cell_type": "code",
   "execution_count": 9,
   "id": "8601ef35",
   "metadata": {},
   "outputs": [
    {
     "data": {
      "image/png": "[encoded data removed]",
      "text/plain": [
       "<Figure size 1000x500 with 1 Axes>"
      ]
     },
     "metadata": {},
     "output_type": "display_data"
    }
   ],
   "source": [
    "# 📊 7. Quick Visualization (Optional)\n",
    "top_customers = customer_sales.sort_values(ascending=False).head(10)\n",
    "plt.figure(figsize=(10,5))\n",
    "sns.barplot(x=top_customers.index, y=top_customers.values)\n",
    "plt.xticks(rotation=45)\n",
    "plt.title('Top 10 Customers by Quantity Purchased')\n",
    "plt.xlabel('Customer ID')\n",
    "plt.ylabel('Total Quantity')\n",
    "plt.show()"
   ]
  },
  {
   "cell_type": "code",
   "execution_count": 10,
   "id": "d25f03b3",
   "metadata": {},
   "outputs": [
    {
     "name": "stdout",
     "output_type": "stream",
     "text": [
      "<class 'pandas.core.frame.DataFrame'>\n",
      "RangeIndex: 536641 entries, 0 to 536640\n",
      "Data columns (total 8 columns):\n",
      " #   Column       Non-Null Count   Dtype         \n",
      "---  ------       --------------   -----         \n",
      " 0   InvoiceNo    536641 non-null  category      \n",
      " 1   StockCode    536641 non-null  category      \n",
      " 2   Description  536641 non-null  category      \n",
      " 3   Quantity     536641 non-null  int32         \n",
      " 4   InvoiceDate  536641 non-null  datetime64[ns]\n",
      " 5   UnitPrice    536641 non-null  float32       \n",
      " 6   CustomerID   536641 non-null  object        \n",
      " 7   Country      536641 non-null  category      \n",
      "dtypes: category(4), datetime64[ns](1), float32(1), int32(1), object(1)\n",
      "memory usage: 17.4+ MB\n",
      "None\n"
     ]
    }
   ],
   "source": [
    "# 📦 8. Final Clean Dataset\n",
    "print(df.info())\n",
    "df.to_csv(\"Online_Retail_Clean.csv\", index=False)"
   ]
  },
  {
   "cell_type": "markdown",
   "id": "413e1c2e",
   "metadata": {},
   "source": [
    "## 📝 9. Summary & Lessons Learned\n",
    "- Removed duplicates and reset index to keep data aligned.\n",
    "- Filled missing descriptions and handled missing CustomerID values.\n",
    "- Separated credit transactions for further analysis.\n",
    "- Optimized data types to reduce memory usage.\n",
    "- Faced a `groupby` issue with categorical CustomerID — solved by converting to string.\n",
    "- Dataset is now clean and ready for analysis or modeling."
   ]
  }
 ],
 "metadata": {
  "kernelspec": {
   "display_name": "Python 3",
   "language": "python",
   "name": "python3"
  },
  "language_info": {
   "codemirror_mode": {
    "name": "ipython",
    "version": 3
   },
   "file_extension": ".py",
   "mimetype": "text/x-python",
   "name": "python",
   "nbconvert_exporter": "python",
   "pygments_lexer": "ipython3",
   "version": "3.12.10"
  }
 },
 "nbformat": 4,
 "nbformat_minor": 5
}
